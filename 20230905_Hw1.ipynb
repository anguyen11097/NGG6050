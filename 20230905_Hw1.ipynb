{
  "nbformat": 4,
  "nbformat_minor": 0,
  "metadata": {
    "colab": {
      "provenance": [],
      "authorship_tag": "ABX9TyNypgFeDiIhmVrGqwckc6sO",
      "include_colab_link": true
    },
    "kernelspec": {
      "name": "python3",
      "display_name": "Python 3"
    },
    "language_info": {
      "name": "python"
    }
  },
  "cells": [
    {
      "cell_type": "markdown",
      "metadata": {
        "id": "view-in-github",
        "colab_type": "text"
      },
      "source": [
        "<a href=\"https://colab.research.google.com/github/anguyen11097/NGG6050/blob/main/20230905_Hw1.ipynb\" target=\"_parent\"><img src=\"https://colab.research.google.com/assets/colab-badge.svg\" alt=\"Open In Colab\"/></a>"
      ]
    },
    {
      "cell_type": "markdown",
      "source": [
        "NGG 6050: Quant Neuro\n",
        "\n",
        "HW1: Frequentist vs. Bayesian Approaches (in Python)\n",
        "\n",
        "Andrew Nguyen\n",
        "\n",
        "20230905\n",
        "\n",
        "Background:\n",
        "\n",
        "\"Imagine running an HIV test on A SAMPLE of 1000 persons ...\"\n",
        "\n",
        "\"The test has a false positive rate of 5% (0.05)...\" i.e., the probability that someone who takes the test gets a POSITIVE result despite the fact that the person does NOT have HIV\n",
        "\n",
        "\"...and no false negative rate.\" i.e., The probability that someone who takes the test gets a NEGATIVE result despite the fact that the person DOES have HIV.\n",
        "\n",
        "Exercises:\n",
        "\n",
        "Exercise #1: If someone gets a positive test, is it \"statistically significant\" at the p<0.05 level? Why or why not?\n",
        "\n",
        "**No, this is not statistically significant. The chances of getting a false positive test result is exactly 5% so we cannot reject the null hypothesis that the HIV test could be positive or negative regardless of infection status.**\n",
        "\n",
        "Exercise 2: What is the probability that if someone gets a positive test, that person is infected?\n",
        "\n",
        "Following on Exercise #2, let's do the same thing, but this time we will try different values for the proportion of the population that is actually infected. What you should notice is that the PROPORTION INFECTED GIVEN A POSITIVE TEST depends (a lot!) on the OVERALL RATE OF INFECTION. Put another way, to determine the probabilty of a hypothesis, given your data (e.g., proportion infected given a positive test), you have to know the probability that the hypothesis was true without any data.\n",
        "Why is this the case? It is a simple consequence of the definition of a conditional probability, formulated as Bayes' Rule. Specifically, the joint probability of two events, call them A and B, is defined as:\n",
        "\n",
        "𝑝(𝐴𝑎𝑛𝑑𝐵)=𝑝(𝐴)×𝑝(𝐵|𝐴)\n",
        "𝑝(𝐵𝑎𝑛𝑑𝐴)=𝑝(𝐵)×𝑝(𝐴|𝐵)\n",
        "\n",
        "Now, calling A the Hypothesis and B the Data, then rearranging, we get:\n",
        "\n",
        "𝑝(𝐻𝑦𝑝𝑜𝑡ℎ𝑒𝑠𝑖𝑠|𝐷𝑎𝑡𝑎)=𝑝(𝐷𝑎𝑡𝑎|𝐻𝑦𝑝𝑜𝑡ℎ𝑒𝑠𝑖𝑠)×𝑝(𝐻𝑦𝑝𝑜𝑡ℎ𝑒𝑠𝑖𝑠)𝑝(𝐷𝑎𝑡𝑎)\n",
        "\n",
        "So you cannot calculate the probability of the hypothesis, given the data (i.e., the Bayesian posterior), without knowing the probability of the hypothesis independent of any data (i.e., the prior).\n",
        "For this exercise, assume a range of priors (infection rates) from 0 to 1 in steps of 0.1.\n",
        "\n",
        "This python code was made with ChatGPT.\n"
      ],
      "metadata": {
        "id": "Rpta5sBABl-G"
      }
    },
    {
      "cell_type": "code",
      "source": [
        "def bayesian_probability(prior_infection_rate, false_positive_rate):\n",
        "    # Calculate the probability of a positive test given the infection (True Positive)\n",
        "    p_positive_given_infected = 1 - false_positive_rate\n",
        "\n",
        "    # Calculate the probability of a positive test given no infection (False Positive)\n",
        "    p_positive_given_not_infected = false_positive_rate\n",
        "\n",
        "    # Calculate the overall probability of a positive test using the law of total probability\n",
        "    p_positive = (prior_infection_rate * p_positive_given_infected) + ((1 - prior_infection_rate) * p_positive_given_not_infected)\n",
        "\n",
        "    # Calculate the probability of being infected given a positive test using Bayes' theorem\n",
        "    p_infected_given_positive = (prior_infection_rate * p_positive_given_infected) / p_positive\n",
        "\n",
        "    return p_infected_given_positive\n",
        "\n",
        "# Prior infection rates from 0 to 1 in steps of 0.1\n",
        "prior_infection_rates = [i/10 for i in range(11)]\n",
        "\n",
        "# False positive rate\n",
        "false_positive_rate = 0.05\n",
        "\n",
        "# Calculate the probabilities for each prior infection rate\n",
        "results = {}\n",
        "for prior_rate in prior_infection_rates:\n",
        "    probability = bayesian_probability(prior_rate, false_positive_rate)\n",
        "    results[prior_rate] = probability\n",
        "\n",
        "# Print the results\n",
        "for prior_rate, probability in results.items():\n",
        "    print(f\"Prior Infection Rate: {prior_rate:.1f}, Probability of being Infected given Positive Test: {probability:.4f}\")\n"
      ],
      "metadata": {
        "colab": {
          "base_uri": "https://localhost:8080/"
        },
        "id": "N7DtOuUXlIV_",
        "outputId": "3d37effe-a2b1-482c-dc1d-9cb6c665213e"
      },
      "execution_count": 1,
      "outputs": [
        {
          "output_type": "stream",
          "name": "stdout",
          "text": [
            "Prior Infection Rate: 0.0, Probability of being Infected given Positive Test: 0.0000\n",
            "Prior Infection Rate: 0.1, Probability of being Infected given Positive Test: 0.6786\n",
            "Prior Infection Rate: 0.2, Probability of being Infected given Positive Test: 0.8261\n",
            "Prior Infection Rate: 0.3, Probability of being Infected given Positive Test: 0.8906\n",
            "Prior Infection Rate: 0.4, Probability of being Infected given Positive Test: 0.9268\n",
            "Prior Infection Rate: 0.5, Probability of being Infected given Positive Test: 0.9500\n",
            "Prior Infection Rate: 0.6, Probability of being Infected given Positive Test: 0.9661\n",
            "Prior Infection Rate: 0.7, Probability of being Infected given Positive Test: 0.9779\n",
            "Prior Infection Rate: 0.8, Probability of being Infected given Positive Test: 0.9870\n",
            "Prior Infection Rate: 0.9, Probability of being Infected given Positive Test: 0.9942\n",
            "Prior Infection Rate: 1.0, Probability of being Infected given Positive Test: 1.0000\n"
          ]
        }
      ]
    }
  ]
}