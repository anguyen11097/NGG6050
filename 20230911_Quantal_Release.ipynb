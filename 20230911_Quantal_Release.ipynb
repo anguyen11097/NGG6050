{
  "cells": [
    {
      "cell_type": "markdown",
      "metadata": {
        "id": "view-in-github",
        "colab_type": "text"
      },
      "source": [
        "<a href=\"https://colab.research.google.com/github/anguyen11097/NGG6050/blob/main/20230911_Quantal_Release.ipynb\" target=\"_parent\"><img src=\"https://colab.research.google.com/assets/colab-badge.svg\" alt=\"Open In Colab\"/></a>"
      ]
    },
    {
      "cell_type": "markdown",
      "metadata": {
        "id": "M5MJwwJEKycY"
      },
      "source": [
        "[![Open In Colab](https://colab.research.google.com/assets/colab-badge.svg)](https://colab.research.google.com/github/PennNGG/Quantitative-Neuroscience/blob/master/Probability%20Distributions/Python/Binomial.ipynb)"
      ]
    },
    {
      "cell_type": "markdown",
      "metadata": {
        "id": "pKIiY6p3GRFq"
      },
      "source": [
        "# Definition"
      ]
    },
    {
      "cell_type": "markdown",
      "metadata": {
        "id": "x7VmLUr5GTNw"
      },
      "source": [
        "The binomial distribution is a discrete probability distribution that describes the probability of obtaining exactly k successes out of n Bernoulli trials, which are individual binary outcomes that each have a success probability of p. For example, if you flip a coin 10 times, what is the probability that it will come up heads 0, 1, 2, ... 10 times?\n",
        "\n",
        "Mathematically, this distribution defines the probability of obtaining *k* successes in *n* trials given a constant probability of success *p* on each trial, which is defined as:\n",
        "\n",
        "[1] $P(X=k\\: successes)=\\left ( \\frac{n}{k} \\right )p^{k}\\left ( 1-p \\right )^{n-k}$\n",
        "\n",
        "for *k* = 0, 1, 2, ... , *n*, and where\n",
        "\n",
        "$\\left ( \\frac{n}{k} \\right )=\\frac{n!}{k!\\left ( n-k \\right )!}$\n",
        "\n",
        " is called the \"binomial coefficient\" and is pronounced \"[n-choose-k](https://www.hackmath.net/en/calculator/n-choose-k)\""
      ]
    },
    {
      "cell_type": "markdown",
      "metadata": {
        "id": "bkVu6eGKIIiQ"
      },
      "source": [
        "# Getting Started with Code\n"
      ]
    },
    {
      "cell_type": "markdown",
      "metadata": {
        "id": "gxusMZ-UN_6m"
      },
      "source": [
        "Matlab code is found in the [NGG Statistics GitHub Repository](https://github.com/PennNGG/Statistics.git) under \"Probability Distributions/Binomial.m\".\n",
        "\n",
        "Python code is included below. First run the code cell just below to make sure all of the required Python modules are loaded, then you can run the other cell(s)."
      ]
    },
    {
      "cell_type": "code",
      "execution_count": null,
      "metadata": {
        "id": "W633IbbRIdwa"
      },
      "outputs": [],
      "source": [
        "import numpy as np\n",
        "import random as rnd\n",
        "import collections\n",
        "import matplotlib.pyplot as plt\n",
        "import time\n",
        "import scipy.stats as st\n",
        "\n",
        "from scipy.stats import bernoulli, binom, poisson, chi2\n",
        "from IPython.display import clear_output\n",
        "from operator import itemgetter\n",
        "from statsmodels.stats import proportion\n",
        "\n",
        "from numpy import matlib"
      ]
    },
    {
      "cell_type": "markdown",
      "metadata": {
        "id": "u3yXPCmMH2CH"
      },
      "source": [
        "# Tutorial"
      ]
    },
    {
      "cell_type": "code",
      "execution_count": null,
      "metadata": {
        "colab": {
          "base_uri": "https://localhost:8080/"
        },
        "id": "4ESB1xpmItGp",
        "outputId": "8ff8ad7d-ea39-44f7-c183-8156eb78db93"
      },
      "outputs": [
        {
          "output_type": "stream",
          "name": "stdout",
          "text": [
            "684 successes out of 1000 trials, simulated p = 0.7000, empirical p = 0.6840\n"
          ]
        }
      ],
      "source": [
        "# Choose some values for the parameters n and p\n",
        "p = 0.7\n",
        "n = 1000\n",
        "\n",
        "# Generate random picks. Note that this is as if we generated Bernoulli trials\n",
        "#   as above, but then just counted the successes in each \"experiment\"\n",
        "num_successes = binom.rvs(n,p) # uses the \"random variates\" method (rvs) of binom\n",
        "\n",
        "# Print out the results\n",
        "print(f'{num_successes} successes out of {n} trials, simulated p = {p:.4f}, empirical p = {num_successes/n:.4f}')"
      ]
    },
    {
      "cell_type": "code",
      "execution_count": null,
      "metadata": {
        "colab": {
          "base_uri": "https://localhost:8080/",
          "height": 472
        },
        "id": "AWJMhBIZIuFU",
        "outputId": "5035a35b-e249-4bd0-f9c6-219c43fcd2e6"
      },
      "outputs": [
        {
          "output_type": "display_data",
          "data": {
            "text/plain": [
              "<Figure size 640x480 with 2 Axes>"
            ],
            "image/png": "[encoded data removed]"
          },
          "metadata": {}
        }
      ],
      "source": [
        "# The full probability distribution describes the probabilty of obtaining each\n",
        "#   possible number of successes (k), given n and p. If we set n=10, the the\n",
        "#   possible values of k are 0, 1, ..., 10. Now we use binom.rvs to simulate\n",
        "#   many different picks to get a full distribution\n",
        "p = 0.7\n",
        "n = 10                      # number of \"trials\" per \"experiment\"\n",
        "num_experiments = 1000;     # number of \"experiments\"\n",
        "outcomes = binom.rvs(n,p,size=num_experiments)\n",
        "\n",
        "# Show a bar plot (histogram) of all of the possible outcomes\n",
        "counts = collections.Counter(outcomes)\n",
        "plt.subplot(211)\n",
        "plt.bar(counts.keys(), counts.values())\n",
        "plt.xlim([-1, n+1])\n",
        "plt.title(f'Binomial distribution, n={n}, p={p:.2f}, {num_experiments} simulations')\n",
        "plt.ylabel('Count')\n",
        "\n",
        "# Show a normalized version that is a pdf. Here counts (the x-axis of the histogram)\n",
        "#   is a DISCRETE variable, so we just have to add up the values\n",
        "normalized_counts = {k: v / total for total in (sum(counts.values()),) for k, v in counts.items()}\n",
        "plt.subplot(212)\n",
        "plt.bar(normalized_counts.keys(), normalized_counts.values())\n",
        "plt.xlim([-1, n+1])\n",
        "plt.xlabel(f'Probability of success in {n} tries')\n",
        "plt.ylabel('Probability')\n",
        "plt.subplots_adjust(hspace=0.3)"
      ]
    },
    {
      "cell_type": "code",
      "execution_count": null,
      "metadata": {
        "colab": {
          "base_uri": "https://localhost:8080/",
          "height": 472
        },
        "id": "XxTbmZOSJEl8",
        "outputId": "a4f941e9-e1b2-40e9-d9e8-729e1df2ace4"
      },
      "outputs": [
        {
          "output_type": "display_data",
          "data": {
            "text/plain": [
              "<Figure size 640x480 with 1 Axes>"
            ],
            "image/png": "[encoded data removed]"
          },
          "metadata": {}
        }
      ],
      "source": [
        "# Now let's make a fun animation showing different values of p and N.\n",
        "#   Note that, of course, the more picks you make of the random variable\n",
        "#   (higher N), the more closely the outcomes (the \"samples\") match the true\n",
        "#   distribution.\n",
        "n=10\n",
        "xs = range(0, n)\n",
        "f = plt.figure()\n",
        "for p in np.arange(0, 1, 0.1):\n",
        "    for N in np.round(np.logspace(1,5,10)):\n",
        "\n",
        "        # Get the true binomial pdf\n",
        "        Y = binom.pmf(xs,n,p)\n",
        "\n",
        "        # Get the random picks, make histogram and normalize\n",
        "        counts = collections.Counter(binom.rvs(n,p,size=int(N)))\n",
        "        normalized_counts = {k: v / total for total in (sum(counts.values()),) for k, v in counts.items()}\n",
        "\n",
        "        # Show both\n",
        "        plt.bar(normalized_counts.keys(), normalized_counts.values())\n",
        "        plt.plot(xs, Y, 'ro-', linewidth=2, markersize=10)\n",
        "\n",
        "        # Labels, etc\n",
        "        plt.title(f'p={p:.1f}, n={n}, N={N:.2f}')\n",
        "        plt.xlabel(f'Number of successes in {n} tries')\n",
        "        plt.ylabel('Probability')\n",
        "        plt.axis([-1, n+1, 0, 0.45])\n",
        "        plt.legend(('Theoretical', 'Simulated'))\n",
        "        plt.show()\n",
        "\n",
        "        # Wait\n",
        "        time.sleep(0.1)\n",
        "\n",
        "        # Clear for next plot\n",
        "        clear_output(wait=True)\n",
        "\n"
      ]
    },
    {
      "cell_type": "code",
      "execution_count": null,
      "metadata": {
        "colab": {
          "base_uri": "https://localhost:8080/",
          "height": 312
        },
        "id": "kUAJ6LCyJbRN",
        "outputId": "a0b3758e-166e-4843-909c-92a5e5a68d10"
      },
      "outputs": [
        {
          "data": {
            "text/plain": [
              "<matplotlib.legend.Legend at 0x7f9c1930eed0>"
            ]
          },
          "execution_count": 6,
          "metadata": {},
          "output_type": "execute_result"
        },
        {
          "data": {
            "image/png": "[encoded data removed]",
            "text/plain": [
              "<Figure size 432x288 with 1 Axes>"
            ]
          },
          "metadata": {
            "needs_background": "light"
          },
          "output_type": "display_data"
        }
      ],
      "source": [
        "# The cumulative distribution function is just the proability of obtaining an\n",
        "#   outcome that is equal to OR LESS THAN a particular value.\n",
        "p = 0.7\n",
        "n = 10                      # number of \"trials\" per \"experiment\"\n",
        "num_experiments = 1000;     # number of \"experiments\"\n",
        "outcomes = binom.rvs(n,p,size=num_experiments)\n",
        "\n",
        "# Make histogram\n",
        "counts = collections.Counter(outcomes)\n",
        "\n",
        "# Unzip keys from values in a sorted order\n",
        "keys, values = zip(*sorted(counts.items(), key=itemgetter(0)))\n",
        "\n",
        "# Compute the cumulative sum of the counts normalized by the total counts (so\n",
        "#   it is a probability function and not just a histogram -- note that the final\n",
        "#   value in the cdf should equal 1 because every value should be equal to or\n",
        "#   less than that value).\n",
        "total = sum(values)\n",
        "cumulative_ps = [x/total for x in np.cumsum(values)]\n",
        "\n",
        "# Plot as a bar graph\n",
        "plt.bar(keys, cumulative_ps)\n",
        "\n",
        "# Compare it to the real binomial cumulative distribution, which we find\n",
        "#   using binom.cdf\n",
        "Y = binom.cdf(keys,n,p)\n",
        "plt.plot(keys, Y, 'ro-', linewidth=2, markersize=10)\n",
        "\n",
        "# Labels, etc\n",
        "plt.title(f'Cumulative binomial distribution, p={p:.1f}, n={n}, N={num_experiments}')\n",
        "plt.xlabel(f'Number of successes in {n} tries')\n",
        "plt.ylabel('Cumulative probability')\n",
        "plt.legend(('Theoretical', 'Simulated'))"
      ]
    },
    {
      "cell_type": "markdown",
      "metadata": {
        "id": "NPyYR5dgJ4Q9"
      },
      "source": [
        "# Neuroscience Example: Quantal Release"
      ]
    },
    {
      "cell_type": "markdown",
      "metadata": {
        "id": "Egvzk_qLKOYl"
      },
      "source": [
        "From: Johnson, E.W., and Wernig, A. (1971). [The binomial nature of transmitter release at the crayfish neuromuscular junction](https://www.ncbi.nlm.nih.gov/pmc/articles/PMC1331610/). J Physiol 218, 757-767.\n",
        "\n",
        "Classic studies by [Bernard Katz and colleagues](https://www.ncbi.nlm.nih.gov/pmc/articles/PMC2151334/) indicated that chemical neurotransmitters are released from presynaptic nerve terminals in discrete quanta, or packets, with a relatively constant release probability. A straightforward implication of this idea is that the release statistics (i.e., the distribution of the number of quanta that are actually released in response to a given event like an action potential reaching the presynaptic nerve terminal) should follow a binomial distribution. As stated by Johnson and Wernig:\n",
        "\n",
        "\"If the average probability of release is constant, then it follows from the hypothesis that the relative frequency of 0, 1, 2, 3, . . . quantal releases in a series of trials is given by the successive terms in the binomial expansion $(p + q)^n$, where *q*=1–*p* is the average probability that a quantum will not be released. In a given trial, the probability that *x* quanta will be released (*px*) is given by the binomial term\" [i.e., Eq. 1, above, but substitute *x* for *k*].\n",
        "\n",
        "In other words, if there are *n* available quanta in a presynaptic terminal, and each is released with probability *p*, then the number of quanta that are actually released should follow a binomial distribution with parameters *n* and *p*.\n",
        "\n",
        "Answers to the exercises below will be found [here](https://github.com/PennNGG/Quantitative-Neuroscience/tree/master/Answers%20to%20Exercises/Python) after the due date."
      ]
    },
    {
      "cell_type": "markdown",
      "metadata": {
        "id": "VveIEEiyLUSk"
      },
      "source": [
        "## Exercise 1\n",
        "Assume that there are 10 quanta available in a nerve terminal, and for a given release event each is released with a probability of 0.2. For one such event, what is the probability that 0, 1, 2, 3, 4, 5, 6, 7, 8, 9, or 10 quanta will be released?"
      ]
    },
    {
      "cell_type": "markdown",
      "source": [
        "This python code was made using the following prompt in ChatGPT:\n",
        "\n",
        "Help me write a program using python code for the following: Assume that there are 10 quanta available in a nerve terminal, and for a given release event each is released with a probability of 0.2. For one such event, what is the probability that 0, 1, 2, 3, 4, 5, 6, 7, 8, 9, or 10 quanta will be released?"
      ],
      "metadata": {
        "id": "1dkXCX_6PyI_"
      }
    },
    {
      "cell_type": "code",
      "source": [
        "import scipy.stats as stats\n",
        "\n",
        "# Number of quanta available\n",
        "total_quanta = 10\n",
        "\n",
        "# Probability of releasing a single quanta in one event\n",
        "probability_per_quanta = 0.2\n",
        "\n",
        "# Calculate probabilities for 0 to 10 quanta being released\n",
        "probabilities = []\n",
        "for i in range(total_quanta + 1):\n",
        "    probability = stats.binom.pmf(i, total_quanta, probability_per_quanta)\n",
        "    probabilities.append(probability)\n",
        "\n",
        "# Display the probabilities\n",
        "for i, probability in enumerate(probabilities):\n",
        "    print(f\"Probability of {i} quanta being released: {probability:.4f}\")\n"
      ],
      "metadata": {
        "colab": {
          "base_uri": "https://localhost:8080/"
        },
        "id": "rQjjA7CVMJbI",
        "outputId": "3fba104d-1bca-4871-ff30-d2cdfe194884"
      },
      "execution_count": null,
      "outputs": [
        {
          "output_type": "stream",
          "name": "stdout",
          "text": [
            "Probability of 0 quanta being released: 0.1074\n",
            "Probability of 1 quanta being released: 0.2684\n",
            "Probability of 2 quanta being released: 0.3020\n",
            "Probability of 3 quanta being released: 0.2013\n",
            "Probability of 4 quanta being released: 0.0881\n",
            "Probability of 5 quanta being released: 0.0264\n",
            "Probability of 6 quanta being released: 0.0055\n",
            "Probability of 7 quanta being released: 0.0008\n",
            "Probability of 8 quanta being released: 0.0001\n",
            "Probability of 9 quanta being released: 0.0000\n",
            "Probability of 10 quanta being released: 0.0000\n"
          ]
        }
      ]
    },
    {
      "cell_type": "markdown",
      "metadata": {
        "id": "eG7Kvl5pL4jf"
      },
      "source": [
        "## Exercise 2\n",
        "Let's say you know that a given nerve terminal contains exactly 14 quanta available for release. You have read in the literature that the release probability of these quanta is low, say 0.1. To assess whether this value is reasonable, you run a simple experiment: activate the nerve and measure the number of quanta that are released. The result is 8 quanta. What is the probability that you would get this result (8 quanta) if the true probability of release really was 0.1? What about if the true release probability was much higher; say, 0.7? What about for each decile of release probability (0.1, 0.2, ... 1.0)? Which value of release probability did you determine to be the most probable, given your measurement?\n",
        "\n",
        "Note: here you are computing a likelihood function: a function describing how the value of the conditional probability *p*(*data* | *parameters*) changes when you hold your data fixed to the value(s) you measured and vary the value(s) of the parameter(s) of, in this case, the binomial distribution. Because you are varying the parameters and not the data, the values of the function are not expected to sum to one (e.g., you can have numerous parameters that have a very high probability of producing the given data) and thus this function is not a probability distribution (see [here](https://www.psychologicalscience.org/observer/bayes-for-beginners-probability-and-likelihood) for an extended discussion). The maximum value of this function is called the maximum likelihood."
      ]
    },
    {
      "cell_type": "markdown",
      "source": [
        "This python code was made using the following prompt in ChatGPT:\n",
        "\n",
        " Help me write a program using python code to compute the likelihood of this quantal release: Given a nerve terminal with 14 quanta available for release. Upon activation of the nerve and 8 quanta are released. Calculate the likelihood for this result if the release probability is: 0.1 and 0.7. Additionally, calculate the likelihood of 8 quanta being released if the probabilities range from 0.1 to 1 with 0.1 increments and report which release probability was the most probable."
      ],
      "metadata": {
        "id": "FOOH-bCxHi0K"
      }
    },
    {
      "cell_type": "code",
      "source": [
        "import scipy.stats as stats\n",
        "import numpy as np\n",
        "\n",
        "# Number of quanta available for release\n",
        "total_quanta = 14\n",
        "\n",
        "# Number of quanta released\n",
        "observed_quanta = 8\n",
        "\n",
        "# Define a range of release probabilities from 0.1 to 1 with 0.1 increments\n",
        "release_probabilities = np.arange(0.1, 1.1, 0.1)\n",
        "\n",
        "# Calculate likelihood for each release probability\n",
        "likelihoods = []\n",
        "for probability in release_probabilities:\n",
        "    likelihood = stats.binom.pmf(observed_quanta, total_quanta, probability)\n",
        "    likelihoods.append(likelihood)\n",
        "\n",
        "# Find the release probability with the highest likelihood\n",
        "most_probable_probability = release_probabilities[np.argmax(likelihoods)]\n",
        "\n",
        "# Display likelihoods and the most probable release probability\n",
        "for i, probability in enumerate(release_probabilities):\n",
        "    print(f\"Release Probability: {probability:.1f}, Likelihood: {likelihoods[i]:.6f}\")\n",
        "\n",
        "print(f\"The most probable release probability is: {most_probable_probability:.1f}\")\n"
      ],
      "metadata": {
        "colab": {
          "base_uri": "https://localhost:8080/"
        },
        "id": "zZBN20DKMjlm",
        "outputId": "d304c533-ffe5-40c8-c646-64c0c17f706c"
      },
      "execution_count": null,
      "outputs": [
        {
          "output_type": "stream",
          "name": "stdout",
          "text": [
            "Release Probability: 0.1, Likelihood: 0.000016\n",
            "Release Probability: 0.2, Likelihood: 0.002015\n",
            "Release Probability: 0.3, Likelihood: 0.023180\n",
            "Release Probability: 0.4, Likelihood: 0.091821\n",
            "Release Probability: 0.5, Likelihood: 0.183289\n",
            "Release Probability: 0.6, Likelihood: 0.206598\n",
            "Release Probability: 0.7, Likelihood: 0.126202\n",
            "Release Probability: 0.8, Likelihood: 0.032244\n",
            "Release Probability: 0.9, Likelihood: 0.001293\n",
            "Release Probability: 1.0, Likelihood: 0.000000\n",
            "The most probable release probability is: 0.6\n"
          ]
        }
      ]
    },
    {
      "cell_type": "markdown",
      "metadata": {
        "id": "-INGaYFtM-Cp"
      },
      "source": [
        "## Exercise 3\n",
        "\n",
        "Not feeling convinced by your single experiment (good scientist!), you repeat it under identical conditions. This time you measure 5 quanta that were released. Your sample size has now doubled, to two measurements. You now want to take into account both measurements when you assess the likelihoods of different possible values of the underlying release probability. To do so, assume that the two measurements in this sample are independent of one another; that is, the value of each result had no bearing on the other. In this case, the total likelihood is simply the product of the likelihoods associated with each separate measurement. It is also typical to compute the logarithm of each likelihood and take their sum, which is often more convenient. What are the values of the total likelihood and total log-likelihood in this example, if we assume that the true release probability is 0.1?\n",
        "\n",
        "Of course, knowing those values of the likelihood and log-likelihood is not particularly useful until you can compare them to the values computed for other possible values for the release probability, so you can determine which value of release probability is most likely, given the data. Therefore, compute the full likelihood and log-likelihood functions using deciles of release probability between 0 and 1. What is the maximum value? Can you improve your estimate by computing the functions at a higher resolution? How does the estimate improve as you increase the sample size?"
      ]
    },
    {
      "cell_type": "markdown",
      "source": [
        "This python code was made using the following prompt in ChatGPT:\n",
        "\n",
        "Help me write a program using python code to compute the likelihood of this quantal release: Given a nerve terminal with 14 quanta available for release. Upon activation of the nerve and 8 quanta are released. Upon activation of the nerve in an independent experiment, you measure 5 quanta. Calculate the likelihood, where total likelihood is the product of the likelihoods from each independent measurement, of these results if the probabilities range from 0.1 to 1 with 0.1 increments. Compute total log-likelihoods by adding together of the logarithms of each likelihoods. Finally, report the most probable release probability given these quantal releases\n",
        "\n"
      ],
      "metadata": {
        "id": "qZB-XR08LA2Y"
      }
    },
    {
      "cell_type": "code",
      "source": [
        "import scipy.stats as stats\n",
        "import numpy as np\n",
        "\n",
        "# Number of quanta available for release\n",
        "total_quanta = 14\n",
        "\n",
        "# Observed quanta in the first experiment\n",
        "observed_quanta_1 = 8\n",
        "\n",
        "# Observed quanta in the second experiment\n",
        "observed_quanta_2 = 5\n",
        "\n",
        "# Define a range of release probabilities from 0.1 to 1 with 0.1 increments\n",
        "release_probabilities = np.arange(0.1, 1, 0.1)\n",
        "\n",
        "# Calculate likelihood for each release probability in the first experiment\n",
        "likelihoods_1 = []\n",
        "for probability in release_probabilities:\n",
        "    likelihood_1 = stats.binom.pmf(observed_quanta_1, total_quanta, probability)\n",
        "    likelihoods_1.append(likelihood_1)\n",
        "\n",
        "# Calculate likelihood for each release probability in the second experiment\n",
        "likelihoods_2 = []\n",
        "for probability in release_probabilities:\n",
        "    likelihood_2 = stats.binom.pmf(observed_quanta_2, total_quanta, probability)\n",
        "    likelihoods_2.append(likelihood_2)\n",
        "\n",
        "# Compute the product of likelihoods for both experiments\n",
        "total_likelihoods = [l1 * l2 for l1, l2 in zip(likelihoods_1, likelihoods_2)]\n",
        "\n",
        "# Compute the total log-likelihoods\n",
        "total_log_likelihoods = [np.log(likelihood) for likelihood in total_likelihoods]\n",
        "\n",
        "# Find the release probability with the highest total log-likelihood\n",
        "most_probable_probability = release_probabilities[np.argmax(total_log_likelihoods)]\n",
        "\n",
        "# Display total log-likelihoods and the most probable release probability\n",
        "for i, probability in enumerate(release_probabilities):\n",
        "    print(f\"Release Probability: {probability:.1f}, Total Log-Likelihood: {total_log_likelihoods[i]:.6f}\")\n",
        "\n",
        "print(f\"The most probable release probability is: {most_probable_probability:.1f}\")\n"
      ],
      "metadata": {
        "colab": {
          "base_uri": "https://localhost:8080/"
        },
        "id": "P44yu7JwKqDs",
        "outputId": "354281bf-7a1f-494c-d9ad-d3b4f95e3f5d"
      },
      "execution_count": null,
      "outputs": [
        {
          "output_type": "stream",
          "name": "stdout",
          "text": [
            "Release Probability: 0.1, Total Log-Likelihood: -15.904745\n",
            "Release Probability: 0.2, Total Log-Likelihood: -8.660577\n",
            "Release Probability: 0.3, Total Log-Likelihood: -5.392502\n",
            "Release Probability: 0.4, Total Log-Likelihood: -3.964895\n",
            "Release Probability: 0.5, Total Log-Likelihood: -3.798852\n",
            "Release Probability: 0.6, Total Log-Likelihood: -4.775825\n",
            "Release Probability: 0.7, Total Log-Likelihood: -7.087097\n",
            "Release Probability: 0.8, Total Log-Likelihood: -11.433166\n",
            "Release Probability: 0.9, Total Log-Likelihood: -20.299194\n",
            "The most probable release probability is: 0.5\n"
          ]
        }
      ]
    },
    {
      "cell_type": "markdown",
      "metadata": {
        "id": "GCN6aNp1N0nC"
      },
      "source": [
        "## Exercise 4\n",
        "\n",
        "You keep going and conduct 100 separate experiments and end up with these results:\n",
        "\n",
        "Measured releases\t| Count\n",
        "---------------- | -------\n",
        "0 | 0\n",
        "1 | 0\n",
        "2 | 3\n",
        "4 | 10\n",
        "5 | 19\n",
        "6 | 26\n",
        "7 | 16\n",
        "8 | 16\n",
        "9 | 5\n",
        "10 | 5\n",
        "11 | 0\n",
        "12 | 0\n",
        "13 | 0\n",
        "14 | 0\n",
        "\n",
        "What is the most likely value of *p* (which we typically refer to as $\\hat{p}$, which is pronounced as \"p-hat\" and represents the maximum-likelihood estimate of a parameter in the population given our sample with a resolution of 0.01?\n",
        "\n",
        "BONUS: Use a fitting procedure to find $\\hat{p}$."
      ]
    },
    {
      "cell_type": "markdown",
      "source": [
        "This python code was made using the following prompt in ChatGPT:\n",
        "\n",
        "Help me write python code for the following: Conducting the same experiment as above 100 independent times, you get the following results: \"Measured releases\" range from 0 to 14 with an increment of 1. For each measured release, the following counts correspond sequentially, where \"counts\" are [0,0,3,10,19,26,16,16,5,5,0,0,0,0]. Calculate the most probable value of release probability ranging from 0 to 1 with an increment of 0.1"
      ],
      "metadata": {
        "id": "uMedxKY_Pfet"
      }
    },
    {
      "cell_type": "code",
      "source": [
        "import numpy as np\n",
        "import scipy.stats as stats\n",
        "\n",
        "# Define the measured releases and corresponding counts\n",
        "measured_releases = np.arange(0, 15)\n",
        "counts = [0, 0, 3, 10, 19, 26, 16, 16, 5, 5, 0, 0, 0, 0]\n",
        "\n",
        "# Define a range of release probabilities from 0 to 1 with 0.1 increments\n",
        "release_probabilities = np.arange(0, 1, 0.1)\n",
        "\n",
        "# Initialize variables to store the maximum likelihood values\n",
        "max_likelihood = -1\n",
        "most_probable_probability = None\n",
        "\n",
        "# Iterate through each release probability\n",
        "for probability in release_probabilities:\n",
        "    # Calculate the likelihood for the current probability\n",
        "    likelihood = 1.0\n",
        "\n",
        "    for i, observed_count in enumerate(counts):\n",
        "        expected_count = stats.binom.pmf(measured_releases[i], 15, probability) * 100  # 100 independent experiments\n",
        "        likelihood *= stats.poisson.pmf(observed_count, expected_count)\n",
        "\n",
        "    # Check if this probability has a higher likelihood\n",
        "    if likelihood > max_likelihood:\n",
        "        max_likelihood = likelihood\n",
        "        most_probable_probability = probability\n",
        "\n",
        "# Display the most probable release probability\n",
        "print(f\"The most probable release probability is: {most_probable_probability:.1f}\")\n"
      ],
      "metadata": {
        "colab": {
          "base_uri": "https://localhost:8080/"
        },
        "id": "kcPn1s-MPGxU",
        "outputId": "99129fd4-80d9-48ce-a499-e0b4c02c1385"
      },
      "execution_count": null,
      "outputs": [
        {
          "output_type": "stream",
          "name": "stdout",
          "text": [
            "The most probable release probability is: 0.4\n"
          ]
        }
      ]
    },
    {
      "cell_type": "markdown",
      "metadata": {
        "id": "9BZG29IBSo6E"
      },
      "source": [
        "## Exercise 5\n",
        "\n",
        "Let's say that you have run an exhaustive set of experiments on this synapse and have determined that the true release probability is 0.3 (within some very small tolerance). Now you want to test whether changing the temperature of the preparation affects the release probability. So you change the temperature, perform the experiment, and measure 7 quantal events for the same 14 available quanta. Compute $\\hat{p}$. Standard statistical inference now asks the question, what is the probability that you would have obtained that measurement given a Null Hypothesis of no effect? In this case, no effect corresponds to an unchanged value of the true release probability (i.e., its value remained at 0.3 even with the temperature change). What is the probability that you would have gotten that measurement if your Null Hypothesis were true? Can you conclude that temperature had an effect?"
      ]
    },
    {
      "cell_type": "markdown",
      "source": [
        "This python code was made using the following prompts in ChatGPT:\n",
        "\n",
        "Help me write python code for the following: Conducting the same experiment as above, there are 14 available quanta in a nerve terminal. Upon activation, you measure 7 quanta released. Calculate the most likely release probability, ranging from 0.1 to 1 with increments of 0.1.\n",
        "\n",
        "Suppose we have a true release probability of p=0.3. What is the probability of getting the \"most_likely_probability\" from the above result given the true release probability?"
      ],
      "metadata": {
        "id": "VBAqnFhnRKNr"
      }
    },
    {
      "cell_type": "code",
      "source": [
        "import scipy.stats as stats\n",
        "import numpy as np\n",
        "\n",
        "# Number of quanta available for release\n",
        "total_quanta = 14\n",
        "\n",
        "# Observed quanta\n",
        "observed_quanta = 7\n",
        "\n",
        "# Define a range of release probabilities from 0.1 to 1 with 0.1 increments\n",
        "release_probabilities = np.arange(0.1, 1.1, 0.1)\n",
        "\n",
        "# Calculate likelihoods for each release probability\n",
        "likelihoods = [stats.binom.pmf(observed_quanta, total_quanta, p) for p in release_probabilities]\n",
        "\n",
        "# Find the release probability with the highest likelihood\n",
        "most_likely_probability = release_probabilities[np.argmax(likelihoods)]\n",
        "\n",
        "# Display the most likely release probability\n",
        "print(f\"The most likely release probability is: {most_likely_probability:.1f}\")\n"
      ],
      "metadata": {
        "colab": {
          "base_uri": "https://localhost:8080/"
        },
        "id": "KEY2ZUMuPy5N",
        "outputId": "bc1e0610-3a1d-4565-d152-e64133eb3a23"
      },
      "execution_count": null,
      "outputs": [
        {
          "output_type": "stream",
          "name": "stdout",
          "text": [
            "The most likely release probability is: 0.5\n"
          ]
        }
      ]
    },
    {
      "cell_type": "markdown",
      "source": [],
      "metadata": {
        "id": "fSfk_IW6RSyK"
      }
    },
    {
      "cell_type": "code",
      "source": [
        "import scipy.stats as stats\n",
        "\n",
        "# True release probability\n",
        "true_release_probability = 0.3\n",
        "\n",
        "# Observed quanta\n",
        "observed_quanta = 7\n",
        "\n",
        "# Number of quanta available for release\n",
        "total_quanta = 14\n",
        "\n",
        "# Calculate the probability of observing 'observed_quanta' given the true release probability\n",
        "probability_observed_given_true = stats.binom.pmf(observed_quanta, total_quanta, true_release_probability)\n",
        "\n",
        "print(f\"The probability of observing {observed_quanta} quanta given the true release probability of {true_release_probability} is: {probability_observed_given_true:.6f}\")\n"
      ],
      "metadata": {
        "colab": {
          "base_uri": "https://localhost:8080/"
        },
        "id": "z7qo3BZBQgmD",
        "outputId": "87ec9677-1a9e-493e-e3b7-75d7d5e9af60"
      },
      "execution_count": null,
      "outputs": [
        {
          "output_type": "stream",
          "name": "stdout",
          "text": [
            "The probability of observing 7 quanta given the true release probability of 0.3 is: 0.061813\n"
          ]
        }
      ]
    },
    {
      "cell_type": "markdown",
      "source": [
        "With a probability of 0.06, greater than the p-value 0.05, we fail to reject the null hypothesis that temperature had an effect."
      ],
      "metadata": {
        "id": "vEhJBqXrn9oa"
      }
    },
    {
      "cell_type": "markdown",
      "metadata": {
        "id": "UFYyaeLwTb35"
      },
      "source": [
        "## Bonus Exercise\n",
        "\n",
        "These data are reproduced from Tables 1 and 2 of Johnson and Wernig. Note that *nx* indicates the number of trials (\"release events\") with *x* measured events. Each row is a separate experiment (don't worry about the ordering, which here is reproduced as it is in the paper).\n",
        "\n",
        "Temp (°C)\t| n0\t| n1\t| n2\t| n3\t| n4\t| n5+\n",
        "--- | --| --- | --- | --- | --- | ---\n",
        "4.0\t| 615\t| 206\t| 33\t| 2\t| 0\t| 0\n",
        "3.5\t| 604\t| 339\t| 94\t| 11\t| 2\t| 0\n",
        "0.0 | \t332\t| 126\t| 21\t| 1\t| 0\t| 0\n",
        "2.0\t| 573\t| 443\t| 154\t| 28\t| 2\t| 0\n",
        "6.5\t| 172\t| 176\t| 89\t| 12\t| 1\t| 0\n",
        "3.0\t| 80\t| 224\t| 200\t| 32\t| 4\t| 0\n",
        "\n",
        "You can probably already see that some experiments resulted in primarily zero or one events per trial (e.g., the top experiment), whereas others tended to have more events (e.g., the bottom experiment).\n",
        "\n",
        "Do the quantal event numbers follow a binomial distribution? If so, then that would lend support to the idea that the events are generated by a process that can be characterized in terms of the number of available quanta and the average probability of release of each quantum.\n",
        "\n",
        "Provide a qualitative answer to this question by comparing the empirical distributions (see the data table, above) to the predicted binomial distribution. To get the predicted distribution (i.e., the probabilities associated with each value of *k* from Eq. 1, given the release probability p and the number of available quanta *n*), you need to determine both *k* and *n* from the empirical measurements. To determine *p*, use Eq. 5 in the paper: $p=1-\\frac{\\sigma ^{2}}{m}$\n",
        "\n",
        "where $\\sigma ^{2}$ is the variance and *m* is the mean of the trial-by-trial counts that can be determined from the data. To determine *n*, compute *m*/*p* (because *m* = *n* x *p*).\n",
        "\n",
        "As an added bonus, also include the predicted Poisson distribution, which can be computed using only the mean number of events (*m*, described above).\n",
        "\n"
      ]
    },
    {
      "cell_type": "markdown",
      "metadata": {
        "id": "TxctXRrXQqv4"
      },
      "source": [
        "# Additional Resources\n",
        "\n",
        "Working with the binomial distribution in [Matlab](https://www.mathworks.com/help/stats/binomial-distribution.html), [R](https://www.rdocumentation.org/packages/stats/versions/3.3/topics/Binomial), and [Python](https://docs.scipy.org/doc/scipy/reference/generated/scipy.stats.binom.html)."
      ]
    },
    {
      "cell_type": "markdown",
      "metadata": {
        "id": "tteEm2Qlgbb3"
      },
      "source": [
        "# Credits\n",
        "\n",
        "Copyright 2021 by Joshua I. Gold, University of Pennsylvania"
      ]
    }
  ],
  "metadata": {
    "colab": {
      "collapsed_sections": [
        "pKIiY6p3GRFq",
        "bkVu6eGKIIiQ",
        "u3yXPCmMH2CH",
        "NPyYR5dgJ4Q9",
        "VveIEEiyLUSk",
        "eG7Kvl5pL4jf",
        "-INGaYFtM-Cp",
        "GCN6aNp1N0nC",
        "9BZG29IBSo6E",
        "UFYyaeLwTb35"
      ],
      "provenance": [],
      "include_colab_link": true
    },
    "kernelspec": {
      "display_name": "Python 3",
      "name": "python3"
    },
    "language_info": {
      "name": "python"
    }
  },
  "nbformat": 4,
  "nbformat_minor": 0
}