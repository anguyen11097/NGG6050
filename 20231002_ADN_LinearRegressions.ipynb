{
  "nbformat": 4,
  "nbformat_minor": 0,
  "metadata": {
    "colab": {
      "provenance": [],
      "authorship_tag": "ABX9TyP88B1RgtLrsA4xaiP2WeMm",
      "include_colab_link": true
    },
    "kernelspec": {
      "name": "python3",
      "display_name": "Python 3"
    },
    "language_info": {
      "name": "python"
    }
  },
  "cells": [
    {
      "cell_type": "markdown",
      "metadata": {
        "id": "view-in-github",
        "colab_type": "text"
      },
      "source": [
        "<a href=\"https://colab.research.google.com/github/anguyen11097/NGG6050/blob/main/20231002_ADN_LinearRegressions.ipynb\" target=\"_parent\"><img src=\"https://colab.research.google.com/assets/colab-badge.svg\" alt=\"Open In Colab\"/></a>"
      ]
    },
    {
      "cell_type": "markdown",
      "source": [
        "Exercises\n",
        "\n",
        "The following code was generated using ChatGPT with the following prompt:\n",
        "\n",
        "\"Given the following dataset:\n",
        "Age\t| Wing Length\n",
        "-- | --\n",
        "3\t| 1.4\n",
        "4\t| 1.5\n",
        "5\t| 2.2\n",
        "6\t| 2.4\n",
        "7\t| 3.1\n",
        "8\t| 3.2\n",
        "9\t| 3.2\n",
        "11\t| 3.9\n",
        "12\t| 4.1\n",
        "14\t| 4.7\n",
        "15\t| 4.5\n",
        "16\t| 5.2\n",
        "17 | 5.0\n",
        "\n",
        "Help me create a python script, using separate code chunks, that does the following:\n",
        "1. Plot the relationship between Age and Wing Length.\n",
        "2. Calculate and plot the regression line, with Age on the x-axis and Wing Length on the y-axis.\n",
        "3. Calculate the p-value\n",
        "4. Calculate and plot the confidence intervals on the slope of the regression.\n",
        "4. Calculate  r^2 (the coefficient of determination)\n",
        "6. Calculate Pearson's r.\n",
        "7. Add some noise to the data and see how the regression changes.\"\n",
        "\n",
        "Using the following data set to investigate the relationship between Age and Wing Length, and use the data to generate answers to the prompts below:\n",
        "\n",
        "Age\t| Wing Length\n",
        "\n",
        "3\t| 1.4\n",
        "\n",
        "4\t| 1.5\n",
        "\n",
        "5\t| 2.2\n",
        "\n",
        "6\t| 2.4\n",
        "\n",
        "7\t| 3.1\n",
        "\n",
        "8\t| 3.2\n",
        "\n",
        "9\t| 3.2\n",
        "\n",
        "11 | 3.9\n",
        "\n",
        "12 | 4.1\n",
        "\n",
        "14 | 4.7\n",
        "\n",
        "15 | 4.5\n",
        "\n",
        "16 | 5.2\n",
        "\n",
        "17 | 5.0\n",
        "\n",
        "1. Plot the relationship between Age and Wing Length."
      ],
      "metadata": {
        "id": "J8ZasJAkxqSq"
      }
    },
    {
      "cell_type": "code",
      "source": [
        "import matplotlib.pyplot as plt\n",
        "\n",
        "# Your dataset\n",
        "age = [3, 4, 5, 6, 7, 8, 9, 11, 12, 14, 15, 16, 17]\n",
        "wing_length = [1.4, 1.5, 2.2, 2.4, 3.1, 3.2, 3.2, 3.9, 4.1, 4.7, 4.5, 5.2, 5.0]\n",
        "\n",
        "plt.scatter(age, wing_length)\n",
        "plt.xlabel('Age')\n",
        "plt.ylabel('Wing Length')\n",
        "plt.title('Scatter Plot: Age vs. Wing Length')\n",
        "plt.show()\n"
      ],
      "metadata": {
        "colab": {
          "base_uri": "https://localhost:8080/",
          "height": 472
        },
        "id": "8v9AFq_zy4TR",
        "outputId": "1f583aff-31f6-41ae-ef3c-87d1121251e8"
      },
      "execution_count": 1,
      "outputs": [
        {
          "output_type": "display_data",
          "data": {
            "text/plain": [
              "<Figure size 640x480 with 1 Axes>"
            ],
            "image/png": "[encoded data removed]"
          },
          "metadata": {}
        }
      ]
    },
    {
      "cell_type": "markdown",
      "source": [
        "2. Calculate and plot the regression line."
      ],
      "metadata": {
        "id": "I71K9WAcyid0"
      }
    },
    {
      "cell_type": "code",
      "source": [
        "import numpy as np\n",
        "from sklearn.linear_model import LinearRegression\n",
        "\n",
        "# Reshape data for scikit-learn\n",
        "age = np.array(age).reshape(-1, 1)\n",
        "wing_length = np.array(wing_length)\n",
        "\n",
        "# Create and fit a linear regression model\n",
        "model = LinearRegression()\n",
        "model.fit(age, wing_length)\n",
        "\n",
        "# Predict values\n",
        "predicted_wing_length = model.predict(age)\n",
        "\n",
        "# Plot the regression line\n",
        "plt.scatter(age, wing_length)\n",
        "plt.plot(age, predicted_wing_length, color='red')\n",
        "plt.xlabel('Age')\n",
        "plt.ylabel('Wing Length')\n",
        "plt.title('Regression Line: Age vs. Wing Length')\n",
        "plt.show()\n"
      ],
      "metadata": {
        "colab": {
          "base_uri": "https://localhost:8080/",
          "height": 472
        },
        "id": "Wfc2tg-Dy7UD",
        "outputId": "d1425e38-a34b-416e-e31c-0166d411ba88"
      },
      "execution_count": 2,
      "outputs": [
        {
          "output_type": "display_data",
          "data": {
            "text/plain": [
              "<Figure size 640x480 with 1 Axes>"
            ],
            "image/png": "[encoded data removed]"
          },
          "metadata": {}
        }
      ]
    },
    {
      "cell_type": "markdown",
      "source": [
        "3. Can you reject, H0; b=0?\n",
        "\n",
        "Yes, we can reject the null hypothesis under p<0.05."
      ],
      "metadata": {
        "id": "xyDJxRLvylXm"
      }
    },
    {
      "cell_type": "code",
      "source": [
        "from scipy import stats\n",
        "\n",
        "slope, intercept, r_value, p_value, std_err = stats.linregress(age.flatten(), wing_length)\n",
        "print(f'p-value: {p_value}')\n"
      ],
      "metadata": {
        "colab": {
          "base_uri": "https://localhost:8080/"
        },
        "id": "Na8PLu8ZzQs5",
        "outputId": "83b15ccc-22ff-440d-db69-764fe7059014"
      },
      "execution_count": 3,
      "outputs": [
        {
          "output_type": "stream",
          "name": "stdout",
          "text": [
            "p-value: 3.0097431724571258e-09\n"
          ]
        }
      ]
    },
    {
      "cell_type": "markdown",
      "source": [
        "4. Calculate and plot the confidence intervals on the slope of the regression."
      ],
      "metadata": {
        "id": "Ph94TaCpyp7R"
      }
    },
    {
      "cell_type": "code",
      "source": [
        "confidence_interval = stats.linregress(age.flatten(), wing_length)\n",
        "print(f'95% Confidence Interval for Slope: ({confidence_interval.slope - 2 * confidence_interval.stderr}, {confidence_interval.slope + 2 * confidence_interval.stderr})')\n"
      ],
      "metadata": {
        "colab": {
          "base_uri": "https://localhost:8080/"
        },
        "id": "vABPXleDy_TK",
        "outputId": "893510c9-9b32-48f6-e7fa-39f39c99fdff"
      },
      "execution_count": 4,
      "outputs": [
        {
          "output_type": "stream",
          "name": "stdout",
          "text": [
            "95% Confidence Interval for Slope: (0.23356638145621234, 0.29580185986422025)\n"
          ]
        }
      ]
    },
    {
      "cell_type": "markdown",
      "source": [
        "5. Calculate r^2\n",
        " (the coefficient of determination)"
      ],
      "metadata": {
        "id": "RSQ20BkJyu2M"
      }
    },
    {
      "cell_type": "code",
      "source": [
        "print(f'r^2 (Coefficient of Determination): {r_value**2}')\n"
      ],
      "metadata": {
        "colab": {
          "base_uri": "https://localhost:8080/"
        },
        "id": "6fur1YoozBSl",
        "outputId": "e9a96fb6-0480-4901-9111-ad89c272922a"
      },
      "execution_count": 5,
      "outputs": [
        {
          "output_type": "stream",
          "name": "stdout",
          "text": [
            "r^2 (Coefficient of Determination): 0.9633822518042855\n"
          ]
        }
      ]
    },
    {
      "cell_type": "markdown",
      "source": [
        "6. Calculate Pearson's r."
      ],
      "metadata": {
        "id": "5vsiWvvqyyGE"
      }
    },
    {
      "cell_type": "code",
      "source": [
        "print(f'Pearson\\'s r: {r_value}')\n"
      ],
      "metadata": {
        "colab": {
          "base_uri": "https://localhost:8080/"
        },
        "id": "U_yP6jh6zD1a",
        "outputId": "c1e9c9c3-1364-40c0-de20-21a829504b7f"
      },
      "execution_count": 6,
      "outputs": [
        {
          "output_type": "stream",
          "name": "stdout",
          "text": [
            "Pearson's r: 0.9815203776816279\n"
          ]
        }
      ]
    },
    {
      "cell_type": "markdown",
      "source": [
        "7. Add some noise to the data and see how the regression changes."
      ],
      "metadata": {
        "id": "VZdK2-I8y1Mw"
      }
    },
    {
      "cell_type": "code",
      "source": [
        "# Add random noise to wing_length\n",
        "np.random.seed(0)\n",
        "wing_length_noisy = wing_length + np.random.normal(0, 0.5, len(wing_length))\n",
        "\n",
        "# Re-run the regression analysis with noisy data\n",
        "slope_noisy, intercept_noisy, r_value_noisy, p_value_noisy, std_err_noisy = stats.linregress(age.flatten(), wing_length_noisy)\n",
        "\n",
        "# Print the results\n",
        "print(f'Original Data - p-value: {p_value}')\n",
        "print(f'Noisy Data - p-value: {p_value_noisy}')\n"
      ],
      "metadata": {
        "colab": {
          "base_uri": "https://localhost:8080/"
        },
        "id": "a9y01ZOTzHWq",
        "outputId": "9e5cff44-0444-46b9-f898-e1ba39382b49"
      },
      "execution_count": 7,
      "outputs": [
        {
          "output_type": "stream",
          "name": "stdout",
          "text": [
            "Original Data - p-value: 3.0097431724571258e-09\n",
            "Noisy Data - p-value: 1.2216491625790316e-05\n"
          ]
        }
      ]
    }
  ]
}